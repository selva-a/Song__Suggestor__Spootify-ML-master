{
 "metadata": {
  "language_info": {
   "codemirror_mode": {
    "name": "ipython",
    "version": 3
   },
   "file_extension": ".py",
   "mimetype": "text/x-python",
   "name": "python",
   "nbconvert_exporter": "python",
   "pygments_lexer": "ipython3",
   "version": "3.8.2-final"
  },
  "orig_nbformat": 2,
  "kernelspec": {
   "name": "python38232bit2ff73f98e99c4ba191a83a85ee8f9a60",
   "display_name": "Python 3.8.2 32-bit"
  }
 },
 "nbformat": 4,
 "nbformat_minor": 2,
 "cells": [
  {
   "cell_type": "code",
   "execution_count": 1,
   "metadata": {},
   "outputs": [],
   "source": [
    "from  helpers import *\n",
    "import spotipy\n",
    "from spotipy import SpotifyClientCredentials, util\n",
    "import pandas as pd"
   ]
  },
  {
   "cell_type": "code",
   "execution_count": 2,
   "metadata": {
    "tags": []
   },
   "outputs": [],
   "source": [
    "client_id='your_client_id'\n",
    "client_secret='yout_client_secret'\n",
    "redirect_uri='your_url_to_redirect'\n",
    "\n",
    "username = 'your_username_code'\n",
    "scope_playlist = 'playlist-modify-public'\n",
    "scope_user = 'user-library-modify'\n",
    "scope_playing = 'user-read-currently-playing'\n",
    "\n",
    "#Credentials to access the Spotify Music Data\n",
    "manager = SpotifyClientCredentials(client_id,client_secret)\n",
    "sp = spotipy.Spotify(client_credentials_manager=manager)\n",
    "\n",
    "#Credentials to access the actual song played\n",
    "token_actual = util.prompt_for_user_token(username,scope_playing,client_id,client_secret,redirect_uri) \n",
    "sp_actual = spotipy.Spotify(auth=token_actual)\n",
    "\n",
    "#Credentiasl to acces the library music \n",
    "token_user= util.prompt_for_user_token(username,scope_user,client_id,client_secret,redirect_uri) \n",
    "sp_user = spotipy.Spotify(auth=token_user)\n",
    "\n",
    "#Credentiasl to acces the Playlists Music\n",
    "token_playlist= util.prompt_for_user_token(username,scope_playlist,client_id,client_secret,redirect_uri) \n",
    "sp_playlist = spotipy.Spotify(auth=token_playlist)\n"
   ]
  },
  {
   "cell_type": "code",
   "execution_count": 3,
   "metadata": {},
   "outputs": [],
   "source": [
    "cluster_0 = pd.read_csv(\"data/cluster0.csv\")\n",
    "cluster_1 = pd.read_csv(\"data/cluster1.csv\")\n",
    "ids_0 = cluster_0['id'].tolist()\n",
    "ids_1 = cluster_1['id'].tolist()"
   ]
  },
  {
   "cell_type": "code",
   "execution_count": 13,
   "metadata": {
    "tags": []
   },
   "outputs": [
    {
     "output_type": "execute_result",
     "data": {
      "text/plain": "{'snapshot_id': 'NSwyZjllODNkNzJkOGEyZGU3ZjY2MzU5Y2JjYTBkYmQxOGQ2NDhlNGY0'}"
     },
     "metadata": {},
     "execution_count": 13
    }
   ],
   "source": [
    "radiohead_energy = sp_playlist.user_playlist_create(username,\"Radiohead :)\")\n",
    "radiohead_relaxed = sp_playlist.user_playlist_create(username,\"Radiohead :(\")\n"
   ]
  },
  {
   "cell_type": "code",
   "execution_count": 9,
   "metadata": {},
   "outputs": [
    {
     "output_type": "execute_result",
     "data": {
      "text/plain": "209"
     },
     "metadata": {},
     "execution_count": 9
    }
   ],
   "source": [
    "sp_playlist.user_playlist_add_tracks(username,'the_playlist_id',ids_1)"
   ]
  }
 ]
}