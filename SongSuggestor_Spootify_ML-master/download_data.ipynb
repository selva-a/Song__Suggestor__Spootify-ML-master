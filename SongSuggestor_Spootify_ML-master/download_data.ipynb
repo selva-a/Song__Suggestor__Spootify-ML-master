{
 "cells": [
  {
   "cell_type": "code",
   "execution_count": 19,
   "metadata": {},
   "outputs": [],
   "source": [
    "from  helpers import *\n",
    "import spotipy\n",
    "from spotipy import SpotifyClientCredentials, util\n",
    "from IPython.core.display import clear_output\n",
    "\n",
    "import pandas as pd \n",
    "import pandasql as ps \n",
    "import time\n",
    "import sqlite3\n"
   ]
  },
  {
   "cell_type": "code",
   "execution_count": 27,
   "metadata": {
    "tags": []
   },
   "outputs": [
    {
     "output_type": "stream",
     "name": "stdout",
     "text": "Music Downloaded!\n"
    },
    {
     "output_type": "execute_result",
     "data": {
      "text/plain": "197"
     },
     "metadata": {},
     "execution_count": 27
    }
   ],
   "source": [
    "tracks,columns = download_playlist('id_of_the_playlist','number_of_the_playlist_songs')\n",
    "#If the id if for artist, you must to put specify True to the artist parameter\n",
    "tracks,columns = download_albums('id_of_the_artist_or_the_album',artist=False)\n",
    "df1 = pd.DataFrame(tracks,columns=columns)\n",
    "df1.head()"
   ]
  },
  {
   "cell_type": "code",
   "execution_count": 28,
   "metadata": {
    "tags": []
   },
   "outputs": [],
   "source": [
    "df1.to_csv('df2.csv',index=False)"
   ]
  }
 ],
 "metadata": {
  "language_info": {
   "codemirror_mode": {
    "name": "ipython",
    "version": 3
   },
   "file_extension": ".py",
   "mimetype": "text/x-python",
   "name": "python",
   "nbconvert_exporter": "python",
   "pygments_lexer": "ipython3",
   "version": "3.8.2-final"
  },
  "orig_nbformat": 2,
  "kernelspec": {
   "name": "python38232bit2ff73f98e99c4ba191a83a85ee8f9a60",
   "display_name": "Python 3.8.2 32-bit"
  }
 },
 "nbformat": 4,
 "nbformat_minor": 2
}